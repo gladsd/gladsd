{
 "cells": [
  {
   "cell_type": "code",
   "execution_count": null,
   "id": "712f4f79",
   "metadata": {},
   "outputs": [],
   "source": []
  },
  {
   "cell_type": "code",
   "execution_count": 1,
   "id": "8e1fa50d",
   "metadata": {},
   "outputs": [
    {
     "name": "stdout",
     "output_type": "stream",
     "text": [
      "Academic license - for non-commercial use only - expires 2025-06-06\n",
      "Using license file C:\\Users\\wlsru\\gurobi.lic\n"
     ]
    },
    {
     "ename": "KeyError",
     "evalue": "(0, 1, 1, 1)",
     "output_type": "error",
     "traceback": [
      "\u001b[1;31m---------------------------------------------------------------------------\u001b[0m",
      "\u001b[1;31mKeyError\u001b[0m                                  Traceback (most recent call last)",
      "\u001b[1;32m<ipython-input-1-1b1cc15f61a2>\u001b[0m in \u001b[0;36m<module>\u001b[1;34m\u001b[0m\n\u001b[0;32m     26\u001b[0m \u001b[1;33m\u001b[0m\u001b[0m\n\u001b[0;32m     27\u001b[0m \u001b[1;31m# Objective function\u001b[0m\u001b[1;33m\u001b[0m\u001b[1;33m\u001b[0m\u001b[1;33m\u001b[0m\u001b[0m\n\u001b[1;32m---> 28\u001b[1;33m m.setObjective(quicksum(FC * X[0, j, s, 1] for j in I for s in S) +\n\u001b[0m\u001b[0;32m     29\u001b[0m                quicksum(OC * d[i, j] * X[i, j, s, r] for i in H for j in H for s in S for r in R), GRB.MINIMIZE)\n\u001b[0;32m     30\u001b[0m \u001b[1;33m\u001b[0m\u001b[0m\n",
      "\u001b[1;32msrc\\gurobipy\\gurobi.pxi\u001b[0m in \u001b[0;36mgurobipy.quicksum\u001b[1;34m()\u001b[0m\n",
      "\u001b[1;32m<ipython-input-1-1b1cc15f61a2>\u001b[0m in \u001b[0;36m<genexpr>\u001b[1;34m(.0)\u001b[0m\n\u001b[0;32m     26\u001b[0m \u001b[1;33m\u001b[0m\u001b[0m\n\u001b[0;32m     27\u001b[0m \u001b[1;31m# Objective function\u001b[0m\u001b[1;33m\u001b[0m\u001b[1;33m\u001b[0m\u001b[1;33m\u001b[0m\u001b[0m\n\u001b[1;32m---> 28\u001b[1;33m m.setObjective(quicksum(FC * X[0, j, s, 1] for j in I for s in S) +\n\u001b[0m\u001b[0;32m     29\u001b[0m                quicksum(OC * d[i, j] * X[i, j, s, r] for i in H for j in H for s in S for r in R), GRB.MINIMIZE)\n\u001b[0;32m     30\u001b[0m \u001b[1;33m\u001b[0m\u001b[0m\n",
      "\u001b[1;31mKeyError\u001b[0m: (0, 1, 1, 1)"
     ]
    }
   ],
   "source": [
    "from gurobipy import Model, GRB, quicksum\n",
    "\n",
    "# Set\n",
    "I = [1, 2, 3]  # Nodes with the highest demand\n",
    "S = [1, 2]  # Vehicles\n",
    "R = [1, 2]  # Routines\n",
    "H = [0] + I  # Nodes + depot\n",
    "\n",
    "#Parameter\n",
    "d = {(i, j): ... for i in H for j in H}  # Distance\n",
    "Qi = {i: ... for i in I}  # Demand\n",
    "FC = ...  # Fixed cost\n",
    "OC = ...  # Operational cost\n",
    "P = ...  # Maximumncapacity\n",
    "M = 100000  # Big M\n",
    "\n",
    "# Model\n",
    "m = Model(\"scooter_collection\")\n",
    "\n",
    "# Decision variables\n",
    "X = m.addVars(I, I, S, R, vtype=GRB.BINARY, name=\"X\")\n",
    "T = m.addVars(I, S, R, vtype=GRB.INTEGER, name=\"T\")\n",
    "D = m.addVars(I, S, R, vtype=GRB.INTEGER, name=\"D\")\n",
    "y = m.addVars(I, vtype=GRB.INTEGER, name=\"y\")\n",
    "N = m.addVars(H, S, R, vtype=GRB.INTEGER, name=\"N\")\n",
    "\n",
    "# Objective function\n",
    "m.setObjective(quicksum(FC * X[0, j, s, 1] for j in I for s in S) +\n",
    "               quicksum(OC * d[i, j] * X[i, j, s, r] for i in H for j in H for s in S for r in R), GRB.MINIMIZE)\n",
    "\n",
    "# Constraints\n",
    "m.addConstrs(quicksum(T[i, s, r] for s in S for r in R) == Qi[i] for i in I)\n",
    "m.addConstrs(quicksum(X[i, j, s, r] for i in I) <= 1 for j in I for s in S for r in R)\n",
    "m.addConstrs(quicksum(X[i, j, s, r] for j in I) <= 1 for i in I for s in S for r in R)\n",
    "m.addConstrs(T[i, s, r] <= M * quicksum(X[j, i, s, r] for j in H) for i in I for s in S for r in R)\n",
    "m.addConstrs(quicksum(X[0, j, s, r] for j in I) <= 1 for s in S for r in R)\n",
    "m.addConstrs(quicksum(X[i, 0, s, r] for i in I) <= 1 for s in S for r in R)\n",
    "m.addConstrs(X[0, j, s, r+1] <= X[0, j, s, r] for j in I for s in S for r in range(len(R)-1))\n",
    "m.addConstr(quicksum(D[1, s, r] for r in R for s in S) == 8)\n",
    "m.addConstr(quicksum(D[2, s, r] for r in R for s in S) == 7)\n",
    "m.addConstr(quicksum(D[3, s, r] for r in R for s in S) == 5)\n",
    "m.addConstrs(D[i, s, r] <= M * quicksum(X[j, i, s, r] for j in H) for i in I for s in S for r in R)\n",
    "m.addConstrs(N[0, s, r] == quicksum(D[i, s, r] for i in I) for s in S for r in R)\n",
    "m.addConstrs(N[i, s, r] + T[j, s, r] - D[j, s, r] - N[j, s, r] <= M * (1 - X[i, j, s, r]) for i in H for j in I for s in S for r in R)\n",
    "m.addConstrs(N[i, s, r] <= P for i in H for s in S for r in R)\n",
    "m.addConstrs(y[i] - y[j] + (1 + len(I)) * X[i, j, s, r] <= len(I) for i in I for j in I if i != j for s in S for r in R)\n",
    "\n",
    "# Optimize model\n",
    "m.optimize()\n"
   ]
  }
 ],
 "metadata": {
  "kernelspec": {
   "display_name": "Python 3",
   "language": "python",
   "name": "python3"
  },
  "language_info": {
   "codemirror_mode": {
    "name": "ipython",
    "version": 3
   },
   "file_extension": ".py",
   "mimetype": "text/x-python",
   "name": "python",
   "nbconvert_exporter": "python",
   "pygments_lexer": "ipython3",
   "version": "3.6.13"
  }
 },
 "nbformat": 4,
 "nbformat_minor": 5
}
